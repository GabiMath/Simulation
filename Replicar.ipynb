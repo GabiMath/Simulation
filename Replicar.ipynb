{
 "cells": [
  {
   "cell_type": "code",
   "execution_count": 1,
   "metadata": {},
   "outputs": [],
   "source": [
    "from sklearn.mixture import GaussianMixture\n",
    "import matplotlib.pyplot as plt\n",
    "import numpy as np"
   ]
  },
  {
   "cell_type": "code",
   "execution_count": 2,
   "metadata": {},
   "outputs": [],
   "source": [
    "W=np.linspace(0,70,71)#W=Conjunto de trabajadores\n",
    "X=5#X=Conjunto de tareas\n",
    "Qt=[0,1,2,3,4,5,6,7,8,9]\n",
    "bx=np.random.randint(1000, size=(70, 5))#bx=presupuesto asignado a la tarea x una vez completada por el trabajador w\n",
    "Aqt=np.random.rand(70,5)#conseguir que todos los trabajadores intenten la tarea de control de calidad qt"
   ]
  },
  {
   "cell_type": "code",
   "execution_count": 3,
   "metadata": {},
   "outputs": [
    {
     "data": {
      "text/plain": [
       "GaussianMixture(covariance_type='spherical', max_iter=40000, n_components=10)"
      ]
     },
     "execution_count": 3,
     "metadata": {},
     "output_type": "execute_result"
    }
   ],
   "source": [
    "gmm = GaussianMixture(n_components=10,covariance_type=\"spherical\",max_iter=40000)\n",
    "gmm.fit(Aqt)"
   ]
  },
  {
   "cell_type": "code",
   "execution_count": 4,
   "metadata": {},
   "outputs": [
    {
     "data": {
      "text/plain": [
       "array([[5.12373403e-08, 6.48305406e-03, 9.88291339e-01, 4.85105760e-03,\n",
       "        9.13547685e-11, 1.42394444e-04, 8.72152230e-13, 2.32103239e-04,\n",
       "        3.00837984e-20, 8.03423053e-11],\n",
       "       [5.07770563e-06, 3.38885461e-02, 9.33068690e-01, 3.41422966e-03,\n",
       "        1.29839666e-09, 2.84889494e-02, 6.51179123e-18, 9.96318038e-04,\n",
       "        1.28039917e-04, 1.01479276e-05],\n",
       "       [5.39037411e-03, 7.44337979e-01, 1.04400525e-07, 1.47443568e-07,\n",
       "        7.48831189e-13, 5.61617397e-10, 2.04066623e-09, 2.50271375e-01,\n",
       "        5.01668699e-22, 1.67091700e-08],\n",
       "       [5.58685897e-03, 6.05321849e-03, 2.52220480e-02, 9.47923784e-01,\n",
       "        1.24411961e-20, 1.14086971e-06, 1.30930888e-23, 1.96577724e-03,\n",
       "        2.82855490e-09, 1.32471700e-02],\n",
       "       [9.51799461e-11, 6.23999153e-04, 2.15212685e-02, 6.84402317e-08,\n",
       "        1.92351163e-12, 9.77853923e-01, 1.68281936e-36, 7.05445469e-07,\n",
       "        3.14769833e-18, 3.56499594e-08],\n",
       "       [1.21012886e-11, 1.63601409e-02, 4.00820845e-02, 2.15683074e-08,\n",
       "        3.53881437e-11, 9.42908910e-01, 6.21803083e-29, 6.48842765e-04,\n",
       "        4.83235644e-18, 2.52991143e-12],\n",
       "       [2.62109513e-04, 7.32215168e-04, 1.16363873e-07, 7.84416344e-05,\n",
       "        1.13695571e-08, 1.99221920e-11, 9.86069465e-01, 1.28575052e-02,\n",
       "        1.54063539e-33, 1.35739369e-07],\n",
       "       [2.90004440e-02, 3.46765090e-01, 7.94795263e-03, 8.59906317e-02,\n",
       "        2.16274113e-16, 3.29538354e-07, 9.23137493e-12, 5.29883315e-01,\n",
       "        3.85372100e-04, 2.68657885e-05],\n",
       "       [9.18440990e-01, 6.96471554e-03, 1.55714198e-07, 4.35960953e-04,\n",
       "        2.64870563e-17, 4.56766840e-11, 9.02054591e-17, 1.95223132e-03,\n",
       "        3.38727724e-24, 7.22059461e-02],\n",
       "       [2.86345783e-06, 9.98066524e-01, 2.01091058e-06, 7.92386115e-10,\n",
       "        6.16681308e-11, 1.21549234e-08, 1.25656517e-09, 1.92858770e-03,\n",
       "        1.15966385e-23, 2.81485704e-14],\n",
       "       [4.59395619e-06, 1.10081411e-02, 2.54375868e-04, 8.71630561e-06,\n",
       "        9.86998548e-01, 4.70696945e-04, 6.41515124e-09, 1.24203546e-03,\n",
       "        7.42450549e-26, 1.28855750e-05],\n",
       "       [3.06484504e-10, 3.55413051e-04, 9.88839562e-01, 4.50425375e-04,\n",
       "        2.45992060e-13, 1.03011626e-02, 5.54053277e-23, 5.34367507e-05,\n",
       "        5.04408428e-13, 3.39940967e-10],\n",
       "       [3.08153329e-06, 3.40094337e-04, 3.51345816e-06, 3.17382631e-03,\n",
       "        5.54247160e-12, 5.76170708e-10, 1.77235218e-05, 9.96461742e-01,\n",
       "        9.47977868e-37, 1.82002762e-08],\n",
       "       [8.55599499e-01, 1.44147299e-01, 1.70266493e-09, 9.58840276e-08,\n",
       "        9.13417616e-26, 1.76914412e-15, 1.85543070e-16, 2.53100988e-04,\n",
       "        7.63093313e-20, 2.84955874e-09],\n",
       "       [4.43111735e-10, 2.12771353e-04, 5.53244596e-07, 9.87234679e-10,\n",
       "        9.99650682e-01, 8.62970126e-05, 3.28735695e-15, 4.96922412e-05,\n",
       "        6.15666718e-44, 2.89749986e-09],\n",
       "       [3.01577596e-04, 2.26374564e-02, 6.72817128e-03, 9.11635852e-04,\n",
       "        8.80119303e-21, 3.81310241e-08, 2.46952699e-18, 8.31353417e-05,\n",
       "        9.69337971e-01, 1.40600346e-08],\n",
       "       [2.60146094e-04, 9.97800187e-01, 1.72724690e-03, 1.63300622e-07,\n",
       "        8.97192334e-11, 2.09895612e-04, 2.18966894e-24, 1.25796221e-06,\n",
       "        9.27276064e-20, 1.10261221e-06],\n",
       "       [8.59053826e-08, 3.62662916e-04, 9.88549333e-01, 1.09857410e-02,\n",
       "        5.50419643e-19, 9.90310559e-05, 5.37061117e-26, 3.10923930e-06,\n",
       "        6.64088719e-09, 3.02125672e-08],\n",
       "       [1.78738346e-05, 6.73369369e-02, 1.31620463e-03, 3.69861670e-04,\n",
       "        1.18400220e-08, 3.27194380e-05, 3.87766089e-09, 9.30926049e-01,\n",
       "        3.05025594e-13, 3.39209503e-07],\n",
       "       [2.78928119e-07, 1.02349035e-03, 9.92986102e-01, 2.81451058e-03,\n",
       "        9.90627753e-20, 3.16409049e-03, 5.67247506e-36, 4.60545649e-07,\n",
       "        6.03041111e-17, 1.10667743e-05],\n",
       "       [1.18996053e-03, 8.65042985e-03, 4.77454861e-03, 7.49930922e-01,\n",
       "        7.61927084e-13, 5.80024669e-08, 2.04613545e-05, 2.35427133e-01,\n",
       "        1.98160972e-13, 6.48672061e-06],\n",
       "       [3.85883411e-03, 9.84533856e-01, 2.30263257e-03, 1.17643210e-04,\n",
       "        1.50070287e-07, 1.18410957e-05, 4.75635179e-08, 9.17244690e-03,\n",
       "        6.08238148e-10, 2.54793503e-06],\n",
       "       [2.41892802e-06, 1.62496685e-02, 8.23294158e-05, 2.27092113e-05,\n",
       "        2.81716559e-09, 1.70015342e-04, 1.04051871e-16, 9.83462235e-01,\n",
       "        7.86686756e-20, 1.06204639e-05],\n",
       "       [2.62713661e-06, 2.36119189e-02, 3.29406061e-03, 1.41151046e-06,\n",
       "        3.64192162e-23, 1.61169699e-07, 4.71592644e-26, 2.08645214e-06,\n",
       "        9.73087734e-01, 1.44450292e-11],\n",
       "       [3.21144171e-02, 3.02746265e-02, 2.41661055e-03, 6.28507034e-02,\n",
       "        2.65080196e-08, 3.24685317e-05, 5.02470799e-12, 2.47860313e-02,\n",
       "        2.11971187e-12, 8.47525116e-01],\n",
       "       [9.28856293e-01, 1.59206115e-02, 3.37375806e-06, 4.24098768e-02,\n",
       "        6.46844797e-20, 1.04262336e-13, 4.59734787e-05, 1.27629193e-02,\n",
       "        1.73443610e-20, 9.52159932e-07],\n",
       "       [1.78912394e-02, 9.82069456e-01, 1.85253780e-10, 1.41076367e-11,\n",
       "        2.85066105e-28, 9.51069049e-15, 1.18995739e-25, 3.93048785e-05,\n",
       "        7.33097461e-22, 2.38771998e-12],\n",
       "       [4.50578395e-03, 5.75359602e-03, 2.10213257e-05, 1.36952743e-04,\n",
       "        7.87151572e-07, 6.69272398e-06, 1.51051983e-18, 6.20242175e-05,\n",
       "        1.46502322e-33, 9.89513142e-01],\n",
       "       [1.23022353e-08, 4.81340632e-04, 1.82292322e-01, 5.53467311e-04,\n",
       "        5.25697985e-07, 8.16438906e-01, 1.20717354e-24, 8.44711143e-05,\n",
       "        1.55469473e-20, 1.48954927e-04],\n",
       "       [9.86676543e-01, 1.31625904e-02, 1.45414432e-09, 5.05084694e-07,\n",
       "        4.49967737e-19, 1.86679532e-13, 5.32087373e-17, 5.72366785e-05,\n",
       "        1.83668941e-27, 1.03123564e-04],\n",
       "       [4.07252947e-03, 5.61282800e-04, 1.62767468e-05, 2.94043231e-03,\n",
       "        3.03857600e-10, 3.05952959e-07, 3.02548598e-16, 3.45325158e-04,\n",
       "        2.95229177e-23, 9.92063847e-01],\n",
       "       [9.94363136e-01, 4.56070752e-03, 1.43359760e-07, 4.26880150e-04,\n",
       "        4.84000661e-15, 1.23187319e-12, 3.56656907e-09, 1.12996003e-04,\n",
       "        7.70059363e-28, 5.36133142e-04],\n",
       "       [1.08691595e-05, 8.61016249e-05, 4.89991429e-02, 9.50783232e-01,\n",
       "        2.71475718e-18, 8.86075202e-07, 3.64095829e-22, 2.12568619e-05,\n",
       "        2.95971958e-20, 9.85114805e-05],\n",
       "       [4.04683620e-06, 3.13447535e-03, 1.45015089e-07, 4.55637051e-07,\n",
       "        3.90242712e-09, 1.37766672e-11, 9.94969188e-01, 1.89168570e-03,\n",
       "        2.19357020e-36, 1.57165083e-12],\n",
       "       [3.37646583e-08, 1.36739128e-04, 2.17411372e-07, 4.23869014e-08,\n",
       "        9.99657717e-01, 6.35555089e-06, 4.36847391e-12, 1.97541959e-04,\n",
       "        4.49670116e-44, 1.35283590e-06],\n",
       "       [3.80720553e-07, 5.11070621e-03, 1.21638676e-02, 8.21086627e-05,\n",
       "        1.94627725e-22, 7.76327669e-07, 1.52722430e-23, 2.08400179e-04,\n",
       "        9.82433760e-01, 6.45651202e-11],\n",
       "       [2.54489173e-04, 6.99815010e-02, 5.56152294e-06, 7.51460051e-07,\n",
       "        9.22734396e-01, 1.54073194e-04, 1.26789368e-12, 3.58059883e-03,\n",
       "        4.69283729e-34, 3.28862903e-03],\n",
       "       [1.25157796e-06, 9.99306708e-01, 3.97968924e-04, 6.82196422e-09,\n",
       "        4.05948305e-12, 3.08542829e-05, 1.21540329e-18, 2.63210685e-04,\n",
       "        3.15730644e-11, 8.22517258e-12],\n",
       "       [3.42878781e-04, 9.91051586e-01, 1.92699497e-03, 1.04950903e-05,\n",
       "        3.92488400e-11, 1.34215701e-05, 6.36337752e-13, 6.65183036e-03,\n",
       "        2.74472589e-06, 4.81238369e-08],\n",
       "       [3.23737449e-03, 4.74579173e-03, 1.16861338e-02, 9.58475774e-01,\n",
       "        2.46164219e-07, 5.29389337e-06, 4.84246921e-07, 7.84963360e-03,\n",
       "        1.35117179e-18, 1.39992682e-02],\n",
       "       [8.21382365e-08, 3.73300402e-03, 9.81311785e-01, 2.90062333e-03,\n",
       "        1.76734942e-11, 1.14602834e-02, 5.18706194e-19, 5.92963769e-04,\n",
       "        1.14726211e-06, 1.11481750e-07],\n",
       "       [9.77466375e-03, 3.65202409e-03, 7.76660646e-08, 9.70464394e-05,\n",
       "        3.41463600e-15, 2.99528884e-14, 9.84378151e-01, 2.09803577e-03,\n",
       "        8.14380446e-29, 1.47811884e-09],\n",
       "       [2.99455453e-11, 1.95013642e-03, 2.11770777e-01, 3.18764822e-07,\n",
       "        6.97445331e-14, 7.86268200e-01, 4.68684314e-33, 1.05679318e-05,\n",
       "        9.42822338e-13, 1.39474064e-10],\n",
       "       [3.34602994e-07, 3.18534541e-04, 1.62987816e-06, 1.11180700e-04,\n",
       "        1.14302366e-11, 8.14671976e-09, 4.85183111e-09, 9.99568296e-01,\n",
       "        4.44616634e-32, 1.11436307e-08],\n",
       "       [6.34322298e-05, 4.19142619e-04, 1.45717367e-02, 9.76290697e-01,\n",
       "        1.57159839e-12, 4.03401964e-06, 7.21483132e-13, 7.73805773e-03,\n",
       "        1.70566847e-13, 9.12899740e-04],\n",
       "       [7.28189925e-02, 3.72158762e-02, 2.15645191e-06, 1.98736199e-03,\n",
       "        1.07827740e-11, 9.95153985e-10, 8.41479918e-06, 8.87658488e-01,\n",
       "        8.67034269e-21, 3.08709267e-04],\n",
       "       [9.43553522e-04, 2.89663980e-02, 3.33642446e-02, 7.55251150e-01,\n",
       "        7.62102518e-11, 6.41813193e-07, 2.88214465e-04, 1.81183102e-01,\n",
       "        1.83507457e-12, 2.69583019e-06],\n",
       "       [1.58084951e-03, 8.46953933e-04, 6.18000798e-05, 5.98706405e-02,\n",
       "        2.23356183e-08, 1.54745239e-06, 4.73156446e-12, 6.72912704e-02,\n",
       "        9.42283679e-26, 8.70346916e-01],\n",
       "       [4.76604631e-11, 3.23756617e-04, 2.79256819e-04, 2.72238059e-09,\n",
       "        3.94109939e-09, 9.99392747e-01, 1.09521913e-36, 3.69262624e-06,\n",
       "        9.25225972e-29, 5.40562794e-07],\n",
       "       [2.21385377e-07, 1.51408636e-03, 1.16550575e-03, 5.88779249e-05,\n",
       "        9.86475415e-01, 8.29171000e-03, 8.73590900e-12, 2.43263090e-03,\n",
       "        3.87038527e-27, 6.15523994e-05],\n",
       "       [4.74692692e-10, 5.03825900e-04, 1.41359118e-02, 3.11459027e-05,\n",
       "        4.28391617e-03, 9.78893618e-01, 7.11761873e-21, 2.14858499e-03,\n",
       "        2.07590193e-32, 2.99637339e-06],\n",
       "       [2.50551232e-09, 1.15480347e-02, 9.82995397e-01, 2.64928944e-05,\n",
       "        2.02918361e-16, 5.29483535e-03, 6.10168997e-25, 9.93551704e-05,\n",
       "        3.58821084e-05, 1.05377515e-11],\n",
       "       [2.00680002e-05, 9.99152028e-01, 7.73111716e-04, 4.54984516e-08,\n",
       "        3.02047664e-16, 4.18468279e-06, 1.05668145e-21, 4.58690005e-05,\n",
       "        4.69349576e-06, 7.77737694e-11],\n",
       "       [5.58732952e-03, 1.73991028e-02, 7.64902935e-05, 3.31527760e-04,\n",
       "        2.05027334e-09, 3.81581662e-05, 3.08678344e-19, 3.79295383e-03,\n",
       "        4.98165148e-18, 9.72774436e-01],\n",
       "       [2.26999067e-02, 9.76719237e-01, 4.81034968e-04, 7.88595920e-05,\n",
       "        9.90341137e-13, 1.09768343e-09, 3.56429464e-08, 2.09233236e-05,\n",
       "        3.32005233e-27, 1.69028970e-09],\n",
       "       [4.31796584e-11, 2.78639467e-04, 7.40159643e-04, 7.32831263e-09,\n",
       "        4.92324584e-06, 9.98974009e-01, 3.20081929e-31, 2.09552914e-06,\n",
       "        2.77921776e-29, 1.65635019e-07],\n",
       "       [9.10690460e-07, 1.48707072e-03, 9.65822101e-01, 2.74674036e-02,\n",
       "        2.79813535e-15, 5.05978580e-03, 2.67200982e-25, 1.23734120e-04,\n",
       "        4.32156050e-07, 3.85615188e-05],\n",
       "       [2.17859593e-07, 3.97261562e-02, 2.26347403e-01, 1.06520931e-05,\n",
       "        1.66535381e-06, 7.33877638e-01, 6.54511736e-23, 3.37012104e-05,\n",
       "        3.93504643e-14, 2.56642352e-06],\n",
       "       [6.77837375e-04, 1.15015061e-01, 8.79179741e-06, 1.53249219e-05,\n",
       "        3.59486281e-04, 1.43877108e-04, 1.85131108e-13, 8.63521688e-01,\n",
       "        8.51683068e-28, 2.02579341e-02],\n",
       "       [2.21032921e-07, 1.31037404e-03, 3.25520878e-03, 1.09775009e-05,\n",
       "        5.44516695e-24, 4.99024852e-07, 1.67897506e-28, 6.65962778e-06,\n",
       "        9.95416060e-01, 2.32975824e-10],\n",
       "       [7.47548899e-06, 2.34948973e-04, 8.69419704e-04, 1.00896643e-02,\n",
       "        5.40533675e-09, 1.13472835e-03, 9.50948592e-23, 3.45340496e-03,\n",
       "        7.03033368e-28, 9.84210353e-01],\n",
       "       [9.09823504e-09, 3.44394599e-03, 5.13723093e-03, 8.43603734e-06,\n",
       "        4.64395104e-01, 5.22757233e-01, 5.65474036e-17, 4.25118488e-03,\n",
       "        4.84772900e-28, 6.85581796e-06],\n",
       "       [1.37495110e-06, 9.54009784e-01, 7.38470013e-06, 2.08666788e-09,\n",
       "        1.82174302e-06, 9.98620669e-05, 1.64482478e-15, 4.58797698e-02,\n",
       "        2.11796272e-24, 1.12765871e-09],\n",
       "       [6.16249782e-03, 2.94005593e-01, 5.03823034e-01, 1.86548490e-01,\n",
       "        3.04631097e-11, 5.38987142e-05, 2.82082624e-10, 7.82367360e-03,\n",
       "        1.53790427e-03, 4.49079545e-05],\n",
       "       [1.11589324e-04, 9.99603958e-01, 1.12810670e-06, 9.55334498e-10,\n",
       "        2.07791526e-15, 1.35753252e-08, 7.88071645e-18, 2.83310058e-04,\n",
       "        3.70955646e-14, 3.81523536e-11],\n",
       "       [8.06658329e-01, 1.93227426e-01, 1.08047198e-05, 9.19828685e-05,\n",
       "        1.70288215e-16, 1.13549729e-11, 1.36126539e-10, 1.10309572e-05,\n",
       "        2.72699936e-22, 4.26193270e-07],\n",
       "       [1.09740867e-04, 7.30045295e-05, 6.07193620e-04, 9.96195921e-01,\n",
       "        2.17649653e-14, 1.19369796e-08, 3.34816881e-11, 2.76632669e-03,\n",
       "        5.45648046e-22, 2.47801294e-04],\n",
       "       [2.61135919e-06, 2.19630916e-01, 7.39154962e-01, 1.35462866e-03,\n",
       "        1.52655931e-05, 2.14339919e-02, 2.33713769e-10, 1.84075458e-02,\n",
       "        2.74188142e-11, 7.90070526e-08],\n",
       "       [9.00072993e-04, 2.96407335e-01, 2.45365875e-01, 6.09277813e-02,\n",
       "        3.00137057e-06, 1.21291595e-02, 1.11960030e-10, 3.80983512e-01,\n",
       "        1.55258353e-06, 3.28171064e-03],\n",
       "       [1.99153392e-02, 9.79485779e-01, 5.17578873e-04, 7.09493241e-06,\n",
       "        5.14256237e-17, 1.03685435e-06, 7.75808693e-23, 6.21200799e-05,\n",
       "        2.82232079e-07, 1.07684833e-05]])"
      ]
     },
     "execution_count": 4,
     "metadata": {},
     "output_type": "execute_result"
    }
   ],
   "source": [
    "gmm.predict_proba(Aqt)#probabilidades"
   ]
  },
  {
   "cell_type": "code",
   "execution_count": 5,
   "metadata": {},
   "outputs": [],
   "source": [
    "Clasificacion=np.array([i.argmax() for i in gmm.predict_proba(Aqt)])"
   ]
  },
  {
   "cell_type": "code",
   "execution_count": 6,
   "metadata": {},
   "outputs": [
    {
     "data": {
      "text/plain": [
       "array([2, 2, 1, 3, 5, 5, 6, 7, 0, 1, 4, 2, 7, 0, 4, 8, 1, 2, 7, 2, 3, 1,\n",
       "       7, 8, 9, 0, 1, 9, 5, 0, 9, 0, 3, 6, 4, 8, 4, 1, 1, 3, 2, 6, 5, 7,\n",
       "       3, 7, 3, 9, 5, 4, 5, 2, 1, 9, 1, 5, 2, 5, 7, 8, 9, 5, 1, 2, 1, 0,\n",
       "       3, 2, 7, 1], dtype=int64)"
      ]
     },
     "execution_count": 6,
     "metadata": {},
     "output_type": "execute_result"
    }
   ],
   "source": [
    "Clasificacion#Calidad de los trabajadores "
   ]
  },
  {
   "cell_type": "markdown",
   "metadata": {},
   "source": [
    "# Asumiremos que todos los trabajadores aceptan sus pagos para no ejecutar el algoritmo de correccion de valores "
   ]
  },
  {
   "cell_type": "code",
   "execution_count": 7,
   "metadata": {},
   "outputs": [
    {
     "data": {
      "image/png": "[encoded data removed]",
      "text/plain": [
       "<Figure size 720x720 with 1 Axes>"
      ]
     },
     "metadata": {
      "needs_background": "light"
     },
     "output_type": "display_data"
    }
   ],
   "source": [
    "plt.figure(figsize=(10,10))\n",
    "plt.hist(Clasificacion,bins=10,density=True)\n",
    "plt.show()"
   ]
  },
  {
   "cell_type": "code",
   "execution_count": 8,
   "metadata": {},
   "outputs": [],
   "source": [
    "def prior(x):\n",
    "    if(0<=x<=9):\n",
    "        return 1\n",
    "    else:\n",
    "        return 0"
   ]
  },
  {
   "cell_type": "code",
   "execution_count": 9,
   "metadata": {},
   "outputs": [],
   "source": [
    "def likelihood(d,x):\n",
    "    k=0\n",
    "    for i in range(len(d)):\n",
    "        if(d[i]!=0):\n",
    "            k=k+np.log(d[i])\n",
    "    return k"
   ]
  },
  {
   "cell_type": "code",
   "execution_count": 10,
   "metadata": {},
   "outputs": [],
   "source": [
    "def ParameterEstimation(n,d):\n",
    "    x1 = np.zeros(n)\n",
    "    acept = 0    \n",
    "    x1[0]=4.5\n",
    "    for i in range(1, n):\n",
    "        actual=x1[i-1]\n",
    "        propuesto=np.random.normal(actual,0.1)\n",
    "        #propuesto=multivariate_normal(actual,desv).rvs()\n",
    "        lik1=likelihood(d,propuesto)\n",
    "        lik2=likelihood(d,actual)\n",
    "        pri1=prior(propuesto)\n",
    "        pri2=prior(actual)\n",
    "                \n",
    "        \n",
    "        #acep=(lik1*pri1)/(lik2*pri2)  \n",
    "        acep=(lik1*pri1)-(lik2*pri2) \n",
    "        if np.log(np.random.rand()) < min(1, acep):\n",
    "            x1[i] = propuesto\n",
    "            acept += 1\n",
    "        else:\n",
    "            x1[i] = actual\n",
    "    return x1,acept/n*100\n"
   ]
  },
  {
   "cell_type": "code",
   "execution_count": 11,
   "metadata": {},
   "outputs": [
    {
     "data": {
      "text/plain": [
       "(array([4.5       , 4.6791515 , 4.57427438, 4.69014478, 4.59821047,\n",
       "        4.7086336 , 4.7199183 , 4.66245649, 4.75071557, 4.70511747,\n",
       "        4.73303111, 4.70326699, 4.82828856, 5.01252446, 5.00340875,\n",
       "        5.02158462, 5.01716488, 5.01124399, 4.95018445, 4.97808999,\n",
       "        5.00372099, 4.98947251, 4.8950148 , 4.99350994, 4.88746505,\n",
       "        4.91948631, 4.88825563, 4.81244663, 4.67827654, 4.50915589,\n",
       "        4.49419561, 4.54161403, 4.52591496, 4.74213609, 4.7368099 ,\n",
       "        4.74298797, 4.64298624, 4.78262677, 4.69323696, 4.72868185,\n",
       "        4.82470785, 4.58549685, 4.49297693, 4.60883111, 4.5522522 ,\n",
       "        4.55121441, 4.59282996, 4.55917044, 4.49856463, 4.47539924,\n",
       "        4.51235202, 4.52508094, 4.43672246, 4.36298948, 4.35931568,\n",
       "        4.32083523, 4.3222607 , 4.36350156, 4.34857728, 4.27771726,\n",
       "        4.39850074, 4.51362709, 4.46085283, 4.29073266, 4.25296625,\n",
       "        4.16930222, 4.20562371, 4.25925807, 4.22677894, 4.29221685,\n",
       "        4.41900629, 4.38200449, 4.25411879, 4.27133419, 4.32614879,\n",
       "        4.50191662, 4.54539211, 4.49504707, 4.53751686, 4.58323951,\n",
       "        4.69568489, 4.57473692, 4.58655778, 4.65793929, 4.7416153 ,\n",
       "        4.6833684 , 4.66885756, 4.80668316, 4.60786185, 4.66198962,\n",
       "        4.47537995, 4.67278559, 4.77013853, 4.86943876, 4.81402635,\n",
       "        4.90666222, 4.93010626, 5.15023059, 5.23916976, 5.15122263]),\n",
       " 99.0)"
      ]
     },
     "execution_count": 11,
     "metadata": {},
     "output_type": "execute_result"
    }
   ],
   "source": [
    "ParameterEstimation(100,Clasificacion)"
   ]
  },
  {
   "cell_type": "code",
   "execution_count": 12,
   "metadata": {},
   "outputs": [],
   "source": [
    "#W=Conjunto de trabajadores\n",
    "#X=Conjunto de tareas\n",
    "#Qt=Conjunto de calidad de control de tareas\n",
    "#bx=presupuesto asignado a la tarea x una vez completada por el trabajador w"
   ]
  },
  {
   "cell_type": "code",
   "execution_count": 13,
   "metadata": {},
   "outputs": [],
   "source": [
    "#tarea de calidad qt en Qt\n",
    "#conseguir que todos los trabajadores intenten la tarea de control de calidad\n",
    "#aplicar el Modelo de Mezcla Gaussiano para medir la calidad de los trabajadores\n",
    "#"
   ]
  }
 ],
 "metadata": {
  "kernelspec": {
   "display_name": "Python 3",
   "language": "python",
   "name": "python3"
  },
  "language_info": {
   "codemirror_mode": {
    "name": "ipython",
    "version": 3
   },
   "file_extension": ".py",
   "mimetype": "text/x-python",
   "name": "python",
   "nbconvert_exporter": "python",
   "pygments_lexer": "ipython3",
   "version": "3.8.3"
  }
 },
 "nbformat": 4,
 "nbformat_minor": 2
}
