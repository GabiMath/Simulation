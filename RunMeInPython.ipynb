{
 "cells":
  {
   "cell_type": "markdown",
   "metadata": {},
   "source": [
    "# 2. Programming"
   ]
  },
  {
   "cell_type": "markdown",
   "metadata": {},
   "source": [
    "1. Write a program that calculates the first $n$ Lucas Numbers, i.e., $1, 3, 4, . . . , L_n$.\n"
   ]
  },
  {
   "cell_type": "markdown",
   "metadata": {},
   "source": [
    "## Lucas Numbers"
   ]
  },
  {
   "cell_type": "markdown",
   "metadata": {},
   "source": [
    "**Method 1. Recursive algorithm**"
   ]
  },
  {
   "cell_type": "markdown",
   "metadata": {},
   "source": [
    "This code is very slow! It just can to compute the first $45$ Lucas Numbers in an hour!!"
   ]
  },
  {
   "cell_type": "code",
   "execution_count": 1,
   "metadata": {},
   "outputs": [],
   "source": [
    "def lucas(n):\n",
    "    if(n == 0): #Initial condition\n",
    "        return 1\n",
    "    if(n == 1): #Initial condition\n",
    "        return 3\n",
    "    else:\n",
    "        return lucas(n-1)+lucas(n-2) #Recursive formula"
   ]
  },
  {
   "cell_type": "code",
   "execution_count": 2,
   "metadata": {},
   "outputs": [
    {
     "name": "stdout",
     "output_type": "stream",
     "text": [
      "Lucas Numbers\n",
      "Write the value of n: 30\n",
      "1 :  1\n",
      "2 :  3\n",
      "3 :  4\n",
      "4 :  7\n",
      "5 :  11\n",
      "6 :  18\n",
      "7 :  29\n",
      "8 :  47\n",
      "9 :  76\n",
      "10 :  123\n",
      "11 :  199\n",
      "12 :  322\n",
      "13 :  521\n",
      "14 :  843\n",
      "15 :  1364\n",
      "16 :  2207\n",
      "17 :  3571\n",
      "18 :  5778\n",
      "19 :  9349\n",
      "20 :  15127\n",
      "21 :  24476\n",
      "22 :  39603\n",
      "23 :  64079\n",
      "24 :  103682\n",
      "25 :  167761\n",
      "26 :  271443\n",
      "27 :  439204\n",
      "28 :  710647\n",
      "29 :  1149851\n",
      "30 :  1860498\n",
      "Tiempo de ejecución:  0:00:01.642609\n"
     ]
    },
    {
     "data": {
      "text/plain": [
       "[<matplotlib.lines.Line2D at 0x1d35503cc18>]"
      ]
     },
     "execution_count": 2,
     "metadata": {},
     "output_type": "execute_result"
    }
   ],
   "source": [
    "import matplotlib.pyplot as plt\n",
    "import time # Information about time of execution -->https://stackoverflow.com/questions/7370801/how-to-measure-elapsed-time-in-python\n",
    "from datetime import timedelta\n",
    "\n",
    "print('Lucas Numbers')\n",
    "x=int(input('Write the value of n: ')) \n",
    "\n",
    "l=[]\n",
    "\n",
    "start = time.time()\n",
    "for i in range(x):\n",
    "    l.append(lucas(i))\n",
    "    print(i+1, ': ', lucas(i))\n",
    "end = time.time()\n",
    "print('Tiempo de ejecución: ',timedelta(seconds=end-start))\n",
    "\n",
    "plt.plot([i for i in range(x)],l)"
   ]
  },
  {
   "cell_type": "markdown",
   "metadata": {},
   "source": [
    "**Method 2. Using for loop**"
   ]
  },
  {
   "cell_type": "markdown",
   "metadata": {},
   "source": [
    "This code computes a very large amount of Lucas numbers quickly, but for large $n$, the plot present some problems, because $L_n$ is too large."
   ]
  },
  {
   "cell_type": "code",
   "execution_count": 36,
   "metadata": {},
   "outputs": [
    {
     "name": "stdout",
     "output_type": "stream",
     "text": [
      "Write the value of n: 100\n",
      "1:  1\n",
      "2:  3\n",
      "3 : 4\n",
      "4 : 7\n",
      "5 : 11\n",
      "6 : 18\n",
      "7 : 29\n",
      "8 : 47\n",
      "9 : 76\n",
      "10 : 123\n",
      "11 : 199\n",
      "12 : 322\n",
      "13 : 521\n",
      "14 : 843\n",
      "15 : 1364\n",
      "16 : 2207\n",
      "17 : 3571\n",
      "18 : 5778\n",
      "19 : 9349\n",
      "20 : 15127\n",
      "21 : 24476\n",
      "22 : 39603\n",
      "23 : 64079\n",
      "24 : 103682\n",
      "25 : 167761\n",
      "26 : 271443\n",
      "27 : 439204\n",
      "28 : 710647\n",
      "29 : 1149851\n",
      "30 : 1860498\n",
      "31 : 3010349\n",
      "32 : 4870847\n",
      "33 : 7881196\n",
      "34 : 12752043\n",
      "35 : 20633239\n",
      "36 : 33385282\n",
      "37 : 54018521\n",
      "38 : 87403803\n",
      "39 : 141422324\n",
      "40 : 228826127\n",
      "41 : 370248451\n",
      "42 : 599074578\n",
      "43 : 969323029\n",
      "44 : 1568397607\n",
      "45 : 2537720636\n",
      "46 : 4106118243\n",
      "47 : 6643838879\n",
      "48 : 10749957122\n",
      "49 : 17393796001\n",
      "50 : 28143753123\n",
      "51 : 45537549124\n",
      "52 : 73681302247\n",
      "53 : 119218851371\n",
      "54 : 192900153618\n",
      "55 : 312119004989\n",
      "56 : 505019158607\n",
      "57 : 817138163596\n",
      "58 : 1322157322203\n",
      "59 : 2139295485799\n",
      "60 : 3461452808002\n",
      "61 : 5600748293801\n",
      "62 : 9062201101803\n",
      "63 : 14662949395604\n",
      "64 : 23725150497407\n",
      "65 : 38388099893011\n",
      "66 : 62113250390418\n",
      "67 : 100501350283429\n",
      "68 : 162614600673847\n",
      "69 : 263115950957276\n",
      "70 : 425730551631123\n",
      "71 : 688846502588399\n",
      "72 : 1114577054219522\n",
      "73 : 1803423556807921\n",
      "74 : 2918000611027443\n",
      "75 : 4721424167835364\n",
      "76 : 7639424778862807\n",
      "77 : 12360848946698171\n",
      "78 : 20000273725560978\n",
      "79 : 32361122672259149\n",
      "80 : 52361396397820127\n",
      "81 : 84722519070079276\n",
      "82 : 137083915467899403\n",
      "83 : 221806434537978679\n",
      "84 : 358890350005878082\n",
      "85 : 580696784543856761\n",
      "86 : 939587134549734843\n",
      "87 : 1520283919093591604\n",
      "88 : 2459871053643326447\n",
      "89 : 3980154972736918051\n",
      "90 : 6440026026380244498\n",
      "91 : 10420180999117162549\n",
      "92 : 16860207025497407047\n",
      "93 : 27280388024614569596\n",
      "94 : 44140595050111976643\n",
      "95 : 71420983074726546239\n",
      "96 : 115561578124838522882\n",
      "97 : 186982561199565069121\n",
      "98 : 302544139324403592003\n",
      "99 : 489526700523968661124\n",
      "100 : 792070839848372253127\n",
      "Tiempo de ejecución:  0:00:00.012755\n"
     ]
    },
    {
     "data": {
      "text/plain": [
       "[<matplotlib.lines.Line2D at 0x1bbd284c748>]"
      ]
     },
     "execution_count": 36,
     "metadata": {},
     "output_type": "execute_result"
    },
    {
     "data": {
      "image/png": "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\n",
      "text/plain": [
       "<Figure size 432x288 with 1 Axes>"
      ]
     },
     "metadata": {
      "needs_background": "light"
     },
     "output_type": "display_data"
    }
   ],
   "source": [
    "n = int(input('Write the value of n: '))\n",
    "l1=1 #Initial condition\n",
    "l2=3 #Initial condition\n",
    "lucas=[l1, l2]\n",
    "\n",
    "print('1: ',l1)\n",
    "print('2: ', l2)\n",
    "\n",
    "start1 = time.time()\n",
    "for i in range(n-2):\n",
    "    l_n = l2 + l1\n",
    "    l1 = l2 \n",
    "    l2 = l_n\n",
    "    lucas.append(l_n)\n",
    "    print(i+3, ':', l_n)\n",
    "end1 = time.time()\n",
    "\n",
    "print('Tiempo de ejecución: ',timedelta(seconds=end1-start1))\n",
    "plt.plot([i for i in range(n)], lucas)"
   ]
  },
  {
   "cell_type": "markdown",
   "metadata": {},
   "source": [
    "**Method 3. Analog of Binet's Fibonnaci number formula for Lucas numbers**"
   ]
  },
  {
   "cell_type": "markdown",
   "metadata": {},
   "source": [
    "It's very fast too"
   ]
  },
  {
   "cell_type": "code",
   "execution_count": 38,
   "metadata": {},
   "outputs": [
    {
     "name": "stdout",
     "output_type": "stream",
     "text": [
      "Write the value of n: 100\n",
      "1 : 1\n",
      "2 : 3\n",
      "3 : 4\n",
      "4 : 7\n",
      "5 : 11\n",
      "6 : 18\n",
      "7 : 29\n",
      "8 : 47\n",
      "9 : 76\n",
      "10 : 123\n",
      "11 : 199\n",
      "12 : 322\n",
      "13 : 521\n",
      "14 : 843\n",
      "15 : 1364\n",
      "16 : 2207\n",
      "17 : 3571\n",
      "18 : 5778\n",
      "19 : 9349\n",
      "20 : 15127\n",
      "21 : 24476\n",
      "22 : 39603\n",
      "23 : 64079\n",
      "24 : 103682\n",
      "25 : 167761\n",
      "26 : 271443\n",
      "27 : 439204\n",
      "28 : 710647\n",
      "29 : 1149851\n",
      "30 : 1860498\n",
      "31 : 3010349\n",
      "32 : 4870847\n",
      "33 : 7881196\n",
      "34 : 12752043\n",
      "35 : 20633239\n",
      "36 : 33385282\n",
      "37 : 54018521\n",
      "38 : 87403803\n",
      "39 : 141422324\n",
      "40 : 228826127\n",
      "41 : 370248451\n",
      "42 : 599074578\n",
      "43 : 969323029\n",
      "44 : 1568397607\n",
      "45 : 2537720636\n",
      "46 : 4106118243\n",
      "47 : 6643838879\n",
      "48 : 10749957122\n",
      "49 : 17393796001\n",
      "50 : 28143753123\n",
      "51 : 45537549124\n",
      "52 : 73681302247\n",
      "53 : 119218851371\n",
      "54 : 192900153618\n",
      "55 : 312119004989\n",
      "56 : 505019158607\n",
      "57 : 817138163596\n",
      "58 : 1322157322203\n",
      "59 : 2139295485799\n",
      "60 : 3461452808002\n",
      "61 : 5600748293801\n",
      "62 : 9062201101803\n",
      "63 : 14662949395604\n",
      "64 : 23725150497407\n",
      "65 : 38388099893011\n",
      "66 : 62113250390418\n",
      "67 : 100501350283429\n",
      "68 : 162614600673847\n",
      "69 : 263115950957277\n",
      "70 : 425730551631124\n",
      "71 : 688846502588401\n",
      "72 : 1114577054219525\n",
      "73 : 1803423556807926\n",
      "74 : 2918000611027450\n",
      "75 : 4721424167835376\n",
      "76 : 7639424778862826\n",
      "77 : 12360848946698202\n",
      "78 : 20000273725561032\n",
      "79 : 32361122672259236\n",
      "80 : 52361396397820264\n",
      "81 : 84722519070079504\n",
      "82 : 137083915467899776\n",
      "83 : 221806434537979296\n",
      "84 : 358890350005879104\n",
      "85 : 580696784543858432\n",
      "86 : 939587134549737600\n",
      "87 : 1520283919093596160\n",
      "88 : 2459871053643333632\n",
      "89 : 3980154972736929792\n",
      "90 : 6440026026380264448\n",
      "91 : 10420180999117195264\n",
      "92 : 16860207025497458688\n",
      "93 : 27280388024614653952\n",
      "94 : 44140595050112114688\n",
      "95 : 71420983074726772736\n",
      "96 : 115561578124838895616\n",
      "97 : 186982561199565668352\n",
      "98 : 302544139324404596736\n",
      "99 : 489526700523970297856\n",
      "100 : 792070839848374894592\n",
      "Tiempo de ejecución:  0:00:00.012159\n"
     ]
    },
    {
     "data": {
      "text/plain": [
       "[<matplotlib.lines.Line2D at 0x1bbd3bc1128>]"
      ]
     },
     "execution_count": 38,
     "metadata": {},
     "output_type": "execute_result"
    },
    {
     "data": {
      "image/png": "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\n",
      "text/plain": [
       "<Figure size 432x288 with 1 Axes>"
      ]
     },
     "metadata": {
      "needs_background": "light"
     },
     "output_type": "display_data"
    }
   ],
   "source": [
    "import numpy as np\n",
    "import matplotlib.pyplot as plt\n",
    "import time # Information about time of execution -->https://stackoverflow.com/questions/7370801/how-to-measure-elapsed-time-in-python\n",
    "from datetime import timedelta\n",
    "\n",
    "n = int(input('Write the value of n: '))\n",
    "\n",
    "def binetsanalog(n):\n",
    "    return int(round(((1+np.sqrt(5))/2)**n+((1-np.sqrt(5))/2)**n))\n",
    "\n",
    "start = time.time()\n",
    "for i in range(n):\n",
    "    print(i+1, ':', binetsanalog(i+1))\n",
    "end1 = time.time()\n",
    "\n",
    "print('Tiempo de ejecución: ',timedelta(seconds=end1-start))\n",
    "plt.plot([i for i in range(n)], [binetsanalog(i) for i in range(n)])"
   ]
  },
  {
   "cell_type": "markdown",
   "metadata": {},
   "source": [
    "The diference in these algorithms is the number of iterations. So, since the recursive algorithm need to do more iterations is more slowly."
   ]
  },
  {
   "cell_type": "markdown",
   "metadata": {},
   "source": [
    "2. Create a git repository on https://github.com or https://bitbucket.org/ and made a commit with a code\n",
    "of the previous problem. How many can you compute with your algorithm in roughly one hour of a single\n",
    "CPU? Plot $n$ vs $L_n$ for that maximum $n$ you were able to compute. The solution of this question is the URL\n",
    "of your repository"
   ]
  },
  {
   "cell_type": "markdown",
   "metadata": {},
   "source": [
    "https://github.com/GabiMath/Simulation"
   ]
  }
 ],
 "metadata": {
  "kernelspec": {
   "display_name": "Python 3",
   "language": "python",
   "name": "python3"
  },
  "language_info": {
   "codemirror_mode": {
    "name": "ipython",
    "version": 3
   },
   "file_extension": ".py",
   "mimetype": "text/x-python",
   "name": "python",
   "nbconvert_exporter": "python",
   "pygments_lexer": "ipython3",
   "version": "3.7.1"
  }
 },
 "nbformat": 4,
 "nbformat_minor": 2
}
