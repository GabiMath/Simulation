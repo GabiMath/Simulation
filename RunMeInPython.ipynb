{
 "cells": [
  {
   "cell_type": "markdown",
   "metadata": {},
   "source": [
    "# 2. Programming"
   ]
  },
  {
   "cell_type": "markdown",
   "metadata": {},
   "source": [
    "## Lucas Numbers"
   ]
  },
  {
   "cell_type": "markdown",
   "metadata": {},
   "source": [
    "**Method 1. Recursive algorithm**"
   ]
  },
  {
   "cell_type": "markdown",
   "metadata": {},
   "source": [
    "This code is very slow! It just can to compute the first $45$ Lucas Numbers in an hour!!"
   ]
  },
  {
   "cell_type": "code",
   "execution_count": 2,
   "metadata": {},
   "outputs": [],
   "source": [
    "def lucas(n):\n",
    "    if(n == 0): #Initial condition\n",
    "        return 1\n",
    "    if(n == 1): #Initial condition\n",
    "        return 3\n",
    "    else:\n",
    "        return lucas(n-1)+lucas(n-2) #Recursive formula"
   ]
  },
  {
   "cell_type": "code",
   "execution_count": 4,
   "metadata": {},
   "outputs": [
    {
     "name": "stdout",
     "output_type": "stream",
     "text": [
      "Lucas Numbers\n",
      "Write the value of n: 35\n",
      "1 :  1\n",
      "2 :  3\n",
      "3 :  4\n",
      "4 :  7\n",
      "5 :  11\n",
      "6 :  18\n",
      "7 :  29\n",
      "8 :  47\n",
      "9 :  76\n",
      "10 :  123\n",
      "11 :  199\n",
      "12 :  322\n",
      "13 :  521\n",
      "14 :  843\n",
      "15 :  1364\n",
      "16 :  2207\n",
      "17 :  3571\n",
      "18 :  5778\n",
      "19 :  9349\n",
      "20 :  15127\n",
      "21 :  24476\n",
      "22 :  39603\n",
      "23 :  64079\n",
      "24 :  103682\n",
      "25 :  167761\n",
      "26 :  271443\n",
      "27 :  439204\n",
      "28 :  710647\n",
      "29 :  1149851\n",
      "30 :  1860498\n",
      "31 :  3010349\n",
      "32 :  4870847\n",
      "33 :  7881196\n",
      "34 :  12752043\n",
      "35 :  20633239\n",
      "Tiempo de ejecución:  0:00:18.875802\n"
     ]
    },
    {
     "data": {
      "image/png": "[encoded data removed]",
      "text/plain": [
       "<Figure size 432x288 with 1 Axes>"
      ]
     },
     "metadata": {
      "needs_background": "light"
     },
     "output_type": "display_data"
    }
   ],
   "source": [
    "import matplotlib.pyplot as plt\n",
    "import time # Information about time of execution -->https://stackoverflow.com/questions/7370801/how-to-measure-elapsed-time-in-python\n",
    "from datetime import timedelta\n",
    "\n",
    "print('Lucas Numbers')\n",
    "x=int(input('Write the value of n: ')) \n",
    "\n",
    "l=[]\n",
    "\n",
    "start = time.time()\n",
    "for i in range(x):\n",
    "    l.append(lucas(i))\n",
    "    print(i+1, ': ', lucas(i))\n",
    "end = time.time()\n",
    "print('Time: ',timedelta(seconds=end-start))\n",
    "\n",
    "plt.plot([i for i in range(x)], [lucas(i) for i in range(x)])\n",
    "plt.show()"
   ]
  },
  {
   "cell_type": "markdown",
   "metadata": {},
   "source": [
    "**Method 2. Using for loop**"
   ]
  },
  {
   "cell_type": "markdown",
   "metadata": {},
   "source": [
    "This code computes a very large amount of Lucas numbers quickly, but for large $n$, the plot present some problems, because $L_n$ is too large."
   ]
  },
  {
   "cell_type": "code",
   "execution_count": 5,
   "metadata": {},
   "outputs": [
    {
     "name": "stdout",
     "output_type": "stream",
     "text": [
      "Write the value of n: 50\n",
      "1:  1\n",
      "2:  3\n",
      "3 : 4\n",
      "4 : 7\n",
      "5 : 11\n",
      "6 : 18\n",
      "7 : 29\n",
      "8 : 47\n",
      "9 : 76\n",
      "10 : 123\n",
      "11 : 199\n",
      "12 : 322\n",
      "13 : 521\n",
      "14 : 843\n",
      "15 : 1364\n",
      "16 : 2207\n",
      "17 : 3571\n",
      "18 : 5778\n",
      "19 : 9349\n",
      "20 : 15127\n",
      "21 : 24476\n",
      "22 : 39603\n",
      "23 : 64079\n",
      "24 : 103682\n",
      "25 : 167761\n",
      "26 : 271443\n",
      "27 : 439204\n",
      "28 : 710647\n",
      "29 : 1149851\n",
      "30 : 1860498\n",
      "31 : 3010349\n",
      "32 : 4870847\n",
      "33 : 7881196\n",
      "34 : 12752043\n",
      "35 : 20633239\n",
      "36 : 33385282\n",
      "37 : 54018521\n",
      "38 : 87403803\n",
      "39 : 141422324\n",
      "40 : 228826127\n",
      "41 : 370248451\n",
      "42 : 599074578\n",
      "43 : 969323029\n",
      "44 : 1568397607\n",
      "45 : 2537720636\n",
      "46 : 4106118243\n",
      "47 : 6643838879\n",
      "48 : 10749957122\n",
      "49 : 17393796001\n",
      "50 : 28143753123\n",
      "Tiempo de ejecución:  0:00:00.007979\n"
     ]
    },
    {
     "data": {
      "text/plain": [
       "[<matplotlib.lines.Line2D at 0x2bbb59c8f28>]"
      ]
     },
     "execution_count": 5,
     "metadata": {},
     "output_type": "execute_result"
    },
    {
     "data": {
      "image/png": "[encoded data removed]",
      "text/plain": [
       "<Figure size 432x288 with 1 Axes>"
      ]
     },
     "metadata": {
      "needs_background": "light"
     },
     "output_type": "display_data"
    }
   ],
   "source": [
    "n = int(input('Write the value of n: '))\n",
    "l1=1 #Initial condition\n",
    "l2=3 #Initial condition\n",
    "lucas=[l1, l2]\n",
    "\n",
    "print('1: ',l1)\n",
    "print('2: ', l2)\n",
    "\n",
    "start1 = time.time()\n",
    "for i in range(n-2):\n",
    "    l_n = l2 + l1\n",
    "    l1 = l2 \n",
    "    l2 = l_n\n",
    "    lucas.append(l_n)\n",
    "    print(i+3, ':', l_n)\n",
    "end1 = time.time()\n",
    "\n",
    "print('Time: ',timedelta(seconds=end1-start1))\n",
    "plt.plot([i for i in range(n)], lucas)"
   ]
  },
  {
   "cell_type": "markdown",
   "metadata": {},
   "source": [
    "**Method 3. Analog of Binet's Fibonnaci number formula for Lucas numbers**"
   ]
  },
  {
   "cell_type": "markdown",
   "metadata": {},
   "source": [
    "It's very fast too"
   ]
  },
  {
   "cell_type": "code",
   "execution_count": 6,
   "metadata": {},
   "outputs": [
    {
     "name": "stdout",
     "output_type": "stream",
     "text": [
      "Write the value of n: 50\n",
      "1 : 1\n",
      "2 : 3\n",
      "3 : 4\n",
      "4 : 7\n",
      "5 : 11\n",
      "6 : 18\n",
      "7 : 29\n",
      "8 : 47\n",
      "9 : 76\n",
      "10 : 123\n",
      "11 : 199\n",
      "12 : 322\n",
      "13 : 521\n",
      "14 : 843\n",
      "15 : 1364\n",
      "16 : 2207\n",
      "17 : 3571\n",
      "18 : 5778\n",
      "19 : 9349\n",
      "20 : 15127\n",
      "21 : 24476\n",
      "22 : 39603\n",
      "23 : 64079\n",
      "24 : 103682\n",
      "25 : 167761\n",
      "26 : 271443\n",
      "27 : 439204\n",
      "28 : 710647\n",
      "29 : 1149851\n",
      "30 : 1860498\n",
      "31 : 3010349\n",
      "32 : 4870847\n",
      "33 : 7881196\n",
      "34 : 12752043\n",
      "35 : 20633239\n",
      "36 : 33385282\n",
      "37 : 54018521\n",
      "38 : 87403803\n",
      "39 : 141422324\n",
      "40 : 228826127\n",
      "41 : 370248451\n",
      "42 : 599074578\n",
      "43 : 969323029\n",
      "44 : 1568397607\n",
      "45 : 2537720636\n",
      "46 : 4106118243\n",
      "47 : 6643838879\n",
      "48 : 10749957122\n",
      "49 : 17393796001\n",
      "50 : 28143753123\n",
      "Tiempo de ejecución:  0:00:00.007980\n"
     ]
    },
    {
     "data": {
      "text/plain": [
       "[<matplotlib.lines.Line2D at 0x2bbb5a33518>]"
      ]
     },
     "execution_count": 6,
     "metadata": {},
     "output_type": "execute_result"
    },
    {
     "data": {
      "image/png": "[encoded data removed]",
      "text/plain": [
       "<Figure size 432x288 with 1 Axes>"
      ]
     },
     "metadata": {
      "needs_background": "light"
     },
     "output_type": "display_data"
    }
   ],
   "source": [
    "import numpy as np\n",
    "import matplotlib.pyplot as plt\n",
    "import time # Information about time of execution -->https://stackoverflow.com/questions/7370801/how-to-measure-elapsed-time-in-python\n",
    "from datetime import timedelta\n",
    "\n",
    "n = int(input('Write the value of n: '))\n",
    "\n",
    "def binetsanalog(n):\n",
    "    return int(round(((1+np.sqrt(5))/2)**n+((1-np.sqrt(5))/2)**n))\n",
    "\n",
    "start = time.time()\n",
    "for i in range(n):\n",
    "    print(i+1, ':', binetsanalog(i+1))\n",
    "end1 = time.time()\n",
    "\n",
    "print('Time: ',timedelta(seconds=end1-start))\n",
    "plt.plot([i for i in range(n)], [binetsanalog(i) for i in range(n)])"
   ]
  },
  {
   "cell_type": "markdown",
   "metadata": {},
   "source": [
    "The diference in these algorithms is the number of iterations. So, since the recursive algorithm need to do more iterations is more slowly."
   ]
  },
  {
   "cell_type": "markdown",
   "metadata": {},
   "source": [
    "**Github link:** https://github.com/GabiMath/Simulation"
   ]
  }
 ],
 "metadata": {
  "kernelspec": {
   "display_name": "Python 3",
   "language": "python",
   "name": "python3"
  },
  "language_info": {
   "codemirror_mode": {
    "name": "ipython",
    "version": 3
   },
   "file_extension": ".py",
   "mimetype": "text/x-python",
   "name": "python",
   "nbconvert_exporter": "python",
   "pygments_lexer": "ipython3",
   "version": "3.7.1"
  }
 },
 "nbformat": 4,
 "nbformat_minor": 2
}
