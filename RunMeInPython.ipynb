{
 "cells": [
  {
   "cell_type": "markdown",
   "metadata": {},
   "source": [
    "# 1. Hippocratic Oath"
   ]
  },
  {
   "cell_type": "code",
   "execution_count": 40,
   "metadata": {
    "scrolled": true
   },
   "outputs": [
    {
     "data": {
      "image/png": "[encoded data removed]",
      "text/plain": [
       "<IPython.core.display.Image object>"
      ]
     },
     "execution_count": 40,
     "metadata": {},
     "output_type": "execute_result"
    }
   ],
   "source": [
    "from IPython.display import Image\n",
    "Image(filename='juramento.png')"
   ]
  },
  {
   "cell_type": "markdown",
   "metadata": {},
   "source": [
    "# 2. Programming"
   ]
  },
  {
   "cell_type": "markdown",
   "metadata": {},
   "source": [
    "1. Write a program that calculates the first $n$ Lucas Numbers, i.e., $1, 3, 4, . . . , L_n$.\n"
   ]
  },
  {
   "cell_type": "markdown",
   "metadata": {},
   "source": [
    "## Lucas Numbers"
   ]
  },
  {
   "cell_type": "markdown",
   "metadata": {},
   "source": [
    "**Method 1. Recursive algorithm**"
   ]
  },
  {
   "cell_type": "markdown",
   "metadata": {},
   "source": [
    "This code is very slow! It just can to compute the first $45$ Lucas Numbers in an hour!!"
   ]
  },
  {
   "cell_type": "code",
   "execution_count": 1,
   "metadata": {},
   "outputs": [],
   "source": [
    "def lucas(n):\n",
    "    if(n == 0): #Initial condition\n",
    "        return 1\n",
    "    if(n == 1): #Initial condition\n",
    "        return 3\n",
    "    else:\n",
    "        return lucas(n-1)+lucas(n-2) #Recursive formula"
   ]
  },
  {
   "cell_type": "code",
   "execution_count": 2,
   "metadata": {},
   "outputs": [
    {
     "name": "stdout",
     "output_type": "stream",
     "text": [
      "Lucas Numbers\n",
      "Write the value of n: 30\n",
      "1 :  1\n",
      "2 :  3\n",
      "3 :  4\n",
      "4 :  7\n",
      "5 :  11\n",
      "6 :  18\n",
      "7 :  29\n",
      "8 :  47\n",
      "9 :  76\n",
      "10 :  123\n",
      "11 :  199\n",
      "12 :  322\n",
      "13 :  521\n",
      "14 :  843\n",
      "15 :  1364\n",
      "16 :  2207\n",
      "17 :  3571\n",
      "18 :  5778\n",
      "19 :  9349\n",
      "20 :  15127\n",
      "21 :  24476\n",
      "22 :  39603\n",
      "23 :  64079\n",
      "24 :  103682\n",
      "25 :  167761\n",
      "26 :  271443\n",
      "27 :  439204\n",
      "28 :  710647\n",
      "29 :  1149851\n",
      "30 :  1860498\n",
      "Tiempo de ejecución:  0:00:01.642609\n"
     ]
    },
    {
     "data": {
      "text/plain": [
       "[<matplotlib.lines.Line2D at 0x1d35503cc18>]"
      ]
     },
     "execution_count": 2,
     "metadata": {},
     "output_type": "execute_result"
    }
   ],
   "source": [
    "import matplotlib.pyplot as plt\n",
    "import time # Information about time of execution -->https://stackoverflow.com/questions/7370801/how-to-measure-elapsed-time-in-python\n",
    "from datetime import timedelta\n",
    "\n",
    "print('Lucas Numbers')\n",
    "x=int(input('Write the value of n: ')) \n",
    "\n",
    "l=[]\n",
    "\n",
    "start = time.time()\n",
    "for i in range(x):\n",
    "    l.append(lucas(i))\n",
    "    print(i+1, ': ', lucas(i))\n",
    "end = time.time()\n",
    "print('Tiempo de ejecución: ',timedelta(seconds=end-start))\n",
    "\n",
    "plt.plot([i for i in range(x)],l)"
   ]
  },
  {
   "cell_type": "markdown",
   "metadata": {},
   "source": [
    "**Method 2. Using for loop**"
   ]
  },
  {
   "cell_type": "markdown",
   "metadata": {},
   "source": [
    "This code computes a very large amount of Lucas numbers quickly, but for large $n$, the plot present some problems, because $L_n$ is too large."
   ]
  },
  {
   "cell_type": "code",
   "execution_count": 36,
   "metadata": {},
   "outputs": [
    {
     "name": "stdout",
     "output_type": "stream",
     "text": [
      "Write the value of n: 100\n",
      "1:  1\n",
      "2:  3\n",
      "3 : 4\n",
      "4 : 7\n",
      "5 : 11\n",
      "6 : 18\n",
      "7 : 29\n",
      "8 : 47\n",
      "9 : 76\n",
      "10 : 123\n",
      "11 : 199\n",
      "12 : 322\n",
      "13 : 521\n",
      "14 : 843\n",
      "15 : 1364\n",
      "16 : 2207\n",
      "17 : 3571\n",
      "18 : 5778\n",
      "19 : 9349\n",
      "20 : 15127\n",
      "21 : 24476\n",
      "22 : 39603\n",
      "23 : 64079\n",
      "24 : 103682\n",
      "25 : 167761\n",
      "26 : 271443\n",
      "27 : 439204\n",
      "28 : 710647\n",
      "29 : 1149851\n",
      "30 : 1860498\n",
      "31 : 3010349\n",
      "32 : 4870847\n",
      "33 : 7881196\n",
      "34 : 12752043\n",
      "35 : 20633239\n",
      "36 : 33385282\n",
      "37 : 54018521\n",
      "38 : 87403803\n",
      "39 : 141422324\n",
      "40 : 228826127\n",
      "41 : 370248451\n",
      "42 : 599074578\n",
      "43 : 969323029\n",
      "44 : 1568397607\n",
      "45 : 2537720636\n",
      "46 : 4106118243\n",
      "47 : 6643838879\n",
      "48 : 10749957122\n",
      "49 : 17393796001\n",
      "50 : 28143753123\n",
      "51 : 45537549124\n",
      "52 : 73681302247\n",
      "53 : 119218851371\n",
      "54 : 192900153618\n",
      "55 : 312119004989\n",
      "56 : 505019158607\n",
      "57 : 817138163596\n",
      "58 : 1322157322203\n",
      "59 : 2139295485799\n",
      "60 : 3461452808002\n",
      "61 : 5600748293801\n",
      "62 : 9062201101803\n",
      "63 : 14662949395604\n",
      "64 : 23725150497407\n",
      "65 : 38388099893011\n",
      "66 : 62113250390418\n",
      "67 : 100501350283429\n",
      "68 : 162614600673847\n",
      "69 : 263115950957276\n",
      "70 : 425730551631123\n",
      "71 : 688846502588399\n",
      "72 : 1114577054219522\n",
      "73 : 1803423556807921\n",
      "74 : 2918000611027443\n",
      "75 : 4721424167835364\n",
      "76 : 7639424778862807\n",
      "77 : 12360848946698171\n",
      "78 : 20000273725560978\n",
      "79 : 32361122672259149\n",
      "80 : 52361396397820127\n",
      "81 : 84722519070079276\n",
      "82 : 137083915467899403\n",
      "83 : 221806434537978679\n",
      "84 : 358890350005878082\n",
      "85 : 580696784543856761\n",
      "86 : 939587134549734843\n",
      "87 : 1520283919093591604\n",
      "88 : 2459871053643326447\n",
      "89 : 3980154972736918051\n",
      "90 : 6440026026380244498\n",
      "91 : 10420180999117162549\n",
      "92 : 16860207025497407047\n",
      "93 : 27280388024614569596\n",
      "94 : 44140595050111976643\n",
      "95 : 71420983074726546239\n",
      "96 : 115561578124838522882\n",
      "97 : 186982561199565069121\n",
      "98 : 302544139324403592003\n",
      "99 : 489526700523968661124\n",
      "100 : 792070839848372253127\n",
      "Tiempo de ejecución:  0:00:00.012755\n"
     ]
    },
    {
     "data": {
      "text/plain": [
       "[<matplotlib.lines.Line2D at 0x1bbd284c748>]"
      ]
     },
     "execution_count": 36,
     "metadata": {},
     "output_type": "execute_result"
    },
    {
     "data": {
      "image/png": "[encoded data removed]",
      "text/plain": [
       "<Figure size 432x288 with 1 Axes>"
      ]
     },
     "metadata": {
      "needs_background": "light"
     },
     "output_type": "display_data"
    }
   ],
   "source": [
    "n = int(input('Write the value of n: '))\n",
    "l1=1 #Initial condition\n",
    "l2=3 #Initial condition\n",
    "lucas=[l1, l2]\n",
    "\n",
    "print('1: ',l1)\n",
    "print('2: ', l2)\n",
    "\n",
    "start1 = time.time()\n",
    "for i in range(n-2):\n",
    "    l_n = l2 + l1\n",
    "    l1 = l2 \n",
    "    l2 = l_n\n",
    "    lucas.append(l_n)\n",
    "    print(i+3, ':', l_n)\n",
    "end1 = time.time()\n",
    "\n",
    "print('Tiempo de ejecución: ',timedelta(seconds=end1-start1))\n",
    "plt.plot([i for i in range(n)], lucas)"
   ]
  },
  {
   "cell_type": "markdown",
   "metadata": {},
   "source": [
    "**Method 3. Analog of Binet's Fibonnaci number formula for Lucas numbers**"
   ]
  },
  {
   "cell_type": "markdown",
   "metadata": {},
   "source": [
    "It's very fast too"
   ]
  },
  {
   "cell_type": "code",
   "execution_count": 38,
   "metadata": {},
   "outputs": [
    {
     "name": "stdout",
     "output_type": "stream",
     "text": [
      "Write the value of n: 100\n",
      "1 : 1\n",
      "2 : 3\n",
      "3 : 4\n",
      "4 : 7\n",
      "5 : 11\n",
      "6 : 18\n",
      "7 : 29\n",
      "8 : 47\n",
      "9 : 76\n",
      "10 : 123\n",
      "11 : 199\n",
      "12 : 322\n",
      "13 : 521\n",
      "14 : 843\n",
      "15 : 1364\n",
      "16 : 2207\n",
      "17 : 3571\n",
      "18 : 5778\n",
      "19 : 9349\n",
      "20 : 15127\n",
      "21 : 24476\n",
      "22 : 39603\n",
      "23 : 64079\n",
      "24 : 103682\n",
      "25 : 167761\n",
      "26 : 271443\n",
      "27 : 439204\n",
      "28 : 710647\n",
      "29 : 1149851\n",
      "30 : 1860498\n",
      "31 : 3010349\n",
      "32 : 4870847\n",
      "33 : 7881196\n",
      "34 : 12752043\n",
      "35 : 20633239\n",
      "36 : 33385282\n",
      "37 : 54018521\n",
      "38 : 87403803\n",
      "39 : 141422324\n",
      "40 : 228826127\n",
      "41 : 370248451\n",
      "42 : 599074578\n",
      "43 : 969323029\n",
      "44 : 1568397607\n",
      "45 : 2537720636\n",
      "46 : 4106118243\n",
      "47 : 6643838879\n",
      "48 : 10749957122\n",
      "49 : 17393796001\n",
      "50 : 28143753123\n",
      "51 : 45537549124\n",
      "52 : 73681302247\n",
      "53 : 119218851371\n",
      "54 : 192900153618\n",
      "55 : 312119004989\n",
      "56 : 505019158607\n",
      "57 : 817138163596\n",
      "58 : 1322157322203\n",
      "59 : 2139295485799\n",
      "60 : 3461452808002\n",
      "61 : 5600748293801\n",
      "62 : 9062201101803\n",
      "63 : 14662949395604\n",
      "64 : 23725150497407\n",
      "65 : 38388099893011\n",
      "66 : 62113250390418\n",
      "67 : 100501350283429\n",
      "68 : 162614600673847\n",
      "69 : 263115950957277\n",
      "70 : 425730551631124\n",
      "71 : 688846502588401\n",
      "72 : 1114577054219525\n",
      "73 : 1803423556807926\n",
      "74 : 2918000611027450\n",
      "75 : 4721424167835376\n",
      "76 : 7639424778862826\n",
      "77 : 12360848946698202\n",
      "78 : 20000273725561032\n",
      "79 : 32361122672259236\n",
      "80 : 52361396397820264\n",
      "81 : 84722519070079504\n",
      "82 : 137083915467899776\n",
      "83 : 221806434537979296\n",
      "84 : 358890350005879104\n",
      "85 : 580696784543858432\n",
      "86 : 939587134549737600\n",
      "87 : 1520283919093596160\n",
      "88 : 2459871053643333632\n",
      "89 : 3980154972736929792\n",
      "90 : 6440026026380264448\n",
      "91 : 10420180999117195264\n",
      "92 : 16860207025497458688\n",
      "93 : 27280388024614653952\n",
      "94 : 44140595050112114688\n",
      "95 : 71420983074726772736\n",
      "96 : 115561578124838895616\n",
      "97 : 186982561199565668352\n",
      "98 : 302544139324404596736\n",
      "99 : 489526700523970297856\n",
      "100 : 792070839848374894592\n",
      "Tiempo de ejecución:  0:00:00.012159\n"
     ]
    },
    {
     "data": {
      "text/plain": [
       "[<matplotlib.lines.Line2D at 0x1bbd3bc1128>]"
      ]
     },
     "execution_count": 38,
     "metadata": {},
     "output_type": "execute_result"
    },
    {
     "data": {
      "image/png": "[encoded data removed]",
      "text/plain": [
       "<Figure size 432x288 with 1 Axes>"
      ]
     },
     "metadata": {
      "needs_background": "light"
     },
     "output_type": "display_data"
    }
   ],
   "source": [
    "import numpy as np\n",
    "import matplotlib.pyplot as plt\n",
    "import time # Information about time of execution -->https://stackoverflow.com/questions/7370801/how-to-measure-elapsed-time-in-python\n",
    "from datetime import timedelta\n",
    "\n",
    "n = int(input('Write the value of n: '))\n",
    "\n",
    "def binetsanalog(n):\n",
    "    return int(round(((1+np.sqrt(5))/2)**n+((1-np.sqrt(5))/2)**n))\n",
    "\n",
    "start = time.time()\n",
    "for i in range(n):\n",
    "    print(i+1, ':', binetsanalog(i+1))\n",
    "end1 = time.time()\n",
    "\n",
    "print('Tiempo de ejecución: ',timedelta(seconds=end1-start))\n",
    "plt.plot([i for i in range(n)], [binetsanalog(i) for i in range(n)])"
   ]
  },
  {
   "cell_type": "markdown",
   "metadata": {},
   "source": [
    "The diference in these algorithms is the number of iterations. So, since the recursive algorithm need to do more iterations is more slowly."
   ]
  },
  {
   "cell_type": "markdown",
   "metadata": {},
   "source": [
    "2. Create a git repository on https://github.com or https://bitbucket.org/ and made a commit with a code\n",
    "of the previous problem. How many can you compute with your algorithm in roughly one hour of a single\n",
    "CPU? Plot $n$ vs $L_n$ for that maximum $n$ you were able to compute. The solution of this question is the URL\n",
    "of your repository"
   ]
  },
  {
   "cell_type": "markdown",
   "metadata": {},
   "source": [
    "https://github.com/GabiMath/Simulation"
   ]
  }
 ],
 "metadata": {
  "kernelspec": {
   "display_name": "Python 3",
   "language": "python",
   "name": "python3"
  },
  "language_info": {
   "codemirror_mode": {
    "name": "ipython",
    "version": 3
   },
   "file_extension": ".py",
   "mimetype": "text/x-python",
   "name": "python",
   "nbconvert_exporter": "python",
   "pygments_lexer": "ipython3",
   "version": "3.7.1"
  }
 },
 "nbformat": 4,
 "nbformat_minor": 2
}
